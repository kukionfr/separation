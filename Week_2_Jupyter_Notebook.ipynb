{
 "cells": [
  {
   "cell_type": "code",
   "execution_count": 113,
   "metadata": {
    "collapsed": false,
    "jupyter": {
     "outputs_hidden": false
    },
    "pycharm": {
     "name": "#%%\n"
    }
   },
   "outputs": [],
   "source": [
    "import warnings\n",
    "warnings.simplefilter(action='ignore', category=FutureWarning)"
   ]
  },
  {
   "cell_type": "markdown",
   "metadata": {},
   "source": [
    "## Week 1 Review\n",
    "\n",
    "- Tip 1: Directory\n",
    "- Tip 2: String\n",
    "    - Slicing\n",
    "    - Replace\n",
    "    - Format\n",
    "- Tip 3: Simple calculation\n",
    "- Tip 4: List and for-loop\n",
    "    - Extend, Append\n",
    "    - Index\n",
    "    - Len, Range\n",
    "    - Enumerate, List comprehension (optional)\n",
    "- Tip 5: If & Boolean\n",
    "- Tip 6: Sympy\n",
    "    - sym.symbols\n",
    "    - sym.Eq\n",
    "    - sym.solve"
   ]
  },
  {
   "cell_type": "markdown",
   "metadata": {
    "pycharm": {
     "name": "#%% md\n"
    }
   },
   "source": [
    "# Week 2: Manipulating Data Structure"
   ]
  },
  {
   "cell_type": "markdown",
   "metadata": {
    "pycharm": {
     "name": "#%% md\n"
    }
   },
   "source": [
    "## Tip 1: Datatype\n",
    "- **String** : text with \" \" notation\n",
    "- **Integer** : number without a decimal point\n",
    "- **Float** : number with a decimal point\n",
    "- **Complex** : real number with imaginary number expressed in the form a+bi\n",
    "- **Boolean** : true or false\n",
    "- **List** : [] mutable array\n",
    "- **Tuple** : () immutable array\n",
    "- **Set** : {} unchangeable array without index and duplicate element\n",
    "- **Dictionary** : { 'key1':variable1, 'key2':variable2, ... }\n",
    "\n",
    "**For more info:** https://docs.python.org/3/library/datatypes.html"
   ]
  },
  {
   "cell_type": "markdown",
   "metadata": {},
   "source": [
    "### Integer"
   ]
  },
  {
   "cell_type": "code",
   "execution_count": 114,
   "metadata": {
    "collapsed": false,
    "jupyter": {
     "outputs_hidden": false
    },
    "pycharm": {
     "name": "#%%\n"
    }
   },
   "outputs": [
    {
     "name": "stdout",
     "output_type": "stream",
     "text": [
      "<class 'int'> 4\n"
     ]
    }
   ],
   "source": [
    "a = 4\n",
    "print(type(a),a)"
   ]
  },
  {
   "cell_type": "markdown",
   "metadata": {},
   "source": [
    "### Float"
   ]
  },
  {
   "cell_type": "code",
   "execution_count": 115,
   "metadata": {
    "collapsed": false,
    "jupyter": {
     "outputs_hidden": false
    },
    "pycharm": {
     "name": "#%%\n"
    }
   },
   "outputs": [
    {
     "name": "stdout",
     "output_type": "stream",
     "text": [
      "<class 'float'> 0.6666666666666666\n"
     ]
    }
   ],
   "source": [
    "b = 2/3\n",
    "print(type(b),b)"
   ]
  },
  {
   "cell_type": "markdown",
   "metadata": {},
   "source": [
    "#### Float can be converted to integer, but it is round down by default"
   ]
  },
  {
   "cell_type": "code",
   "execution_count": 116,
   "metadata": {
    "collapsed": false,
    "jupyter": {
     "outputs_hidden": false
    },
    "pycharm": {
     "name": "#%%\n"
    }
   },
   "outputs": [
    {
     "name": "stdout",
     "output_type": "stream",
     "text": [
      "<class 'int'> 0\n"
     ]
    }
   ],
   "source": [
    "b2 = int(b)\n",
    "print(type(b2),b2)"
   ]
  },
  {
   "cell_type": "markdown",
   "metadata": {},
   "source": [
    "#### Use \"round\" to convert float to integer with rounding up/down"
   ]
  },
  {
   "cell_type": "code",
   "execution_count": 117,
   "metadata": {
    "collapsed": false,
    "jupyter": {
     "outputs_hidden": false
    },
    "pycharm": {
     "name": "#%%\n"
    }
   },
   "outputs": [
    {
     "name": "stdout",
     "output_type": "stream",
     "text": [
      "<class 'int'> 1\n"
     ]
    }
   ],
   "source": [
    "b3 = round(b)\n",
    "print(type(b3),b3)"
   ]
  },
  {
   "cell_type": "markdown",
   "metadata": {},
   "source": [
    "### Complex"
   ]
  },
  {
   "cell_type": "code",
   "execution_count": 118,
   "metadata": {
    "collapsed": false,
    "jupyter": {
     "outputs_hidden": false
    },
    "pycharm": {
     "name": "#%%\n"
    }
   },
   "outputs": [
    {
     "name": "stdout",
     "output_type": "stream",
     "text": [
      "<class 'complex'> (5+6j)\n"
     ]
    }
   ],
   "source": [
    "c = 5+6j\n",
    "print(type(c),c)"
   ]
  },
  {
   "cell_type": "markdown",
   "metadata": {},
   "source": [
    "### Boolean"
   ]
  },
  {
   "cell_type": "code",
   "execution_count": 119,
   "metadata": {
    "collapsed": false,
    "jupyter": {
     "outputs_hidden": false
    },
    "pycharm": {
     "name": "#%%\n"
    }
   },
   "outputs": [
    {
     "name": "stdout",
     "output_type": "stream",
     "text": [
      "<class 'bool'> True\n"
     ]
    }
   ],
   "source": [
    "d = True\n",
    "print(type(d),d)"
   ]
  },
  {
   "cell_type": "markdown",
   "metadata": {},
   "source": [
    "#### Use \"not\" operator to \"flip\" True to False"
   ]
  },
  {
   "cell_type": "code",
   "execution_count": 120,
   "metadata": {
    "collapsed": false,
    "jupyter": {
     "outputs_hidden": false
    },
    "pycharm": {
     "name": "#%%\n"
    }
   },
   "outputs": [
    {
     "name": "stdout",
     "output_type": "stream",
     "text": [
      "True False\n"
     ]
    }
   ],
   "source": [
    "print(d, not d)"
   ]
  },
  {
   "cell_type": "markdown",
   "metadata": {},
   "source": [
    "### List\n",
    "- mutable"
   ]
  },
  {
   "cell_type": "code",
   "execution_count": 121,
   "metadata": {
    "collapsed": false,
    "jupyter": {
     "outputs_hidden": false
    },
    "pycharm": {
     "name": "#%%\n"
    }
   },
   "outputs": [
    {
     "name": "stdout",
     "output_type": "stream",
     "text": [
      "<class 'list'> [1, 2, 3, 4]\n"
     ]
    }
   ],
   "source": [
    "# list\n",
    "e1 = [1,2,3,4]\n",
    "print(type(e1),e1)"
   ]
  },
  {
   "cell_type": "markdown",
   "metadata": {},
   "source": [
    "#### Variables with different data type can be put in a list"
   ]
  },
  {
   "cell_type": "code",
   "execution_count": 122,
   "metadata": {
    "collapsed": false,
    "jupyter": {
     "outputs_hidden": false
    },
    "pycharm": {
     "name": "#%%\n"
    }
   },
   "outputs": [
    {
     "name": "stdout",
     "output_type": "stream",
     "text": [
      "<class 'list'> [4, 0.6666666666666666, (5+6j), True]\n"
     ]
    }
   ],
   "source": [
    "e2 = [a,b,c,d]\n",
    "print(type(e2),e2)"
   ]
  },
  {
   "cell_type": "markdown",
   "metadata": {},
   "source": [
    "#### Access elements using index"
   ]
  },
  {
   "cell_type": "code",
   "execution_count": 123,
   "metadata": {
    "collapsed": false,
    "jupyter": {
     "outputs_hidden": false
    },
    "pycharm": {
     "name": "#%%\n"
    }
   },
   "outputs": [
    {
     "name": "stdout",
     "output_type": "stream",
     "text": [
      "4\n",
      "True\n"
     ]
    }
   ],
   "source": [
    "print(e2[0])\n",
    "print(e2[-1])"
   ]
  },
  {
   "cell_type": "markdown",
   "metadata": {},
   "source": [
    "#### Change value of specific element (mutable)"
   ]
  },
  {
   "cell_type": "code",
   "execution_count": 124,
   "metadata": {
    "collapsed": false,
    "jupyter": {
     "outputs_hidden": false
    },
    "pycharm": {
     "name": "#%%\n"
    }
   },
   "outputs": [
    {
     "name": "stdout",
     "output_type": "stream",
     "text": [
      "<class 'list'> [5, 0.6666666666666666, (5+6j), True]\n"
     ]
    }
   ],
   "source": [
    "e2[0]=5\n",
    "print(type(e2),e2)"
   ]
  },
  {
   "cell_type": "markdown",
   "metadata": {},
   "source": [
    "#### Python is equipped with many built-in tools."
   ]
  },
  {
   "cell_type": "code",
   "execution_count": 125,
   "metadata": {
    "collapsed": false,
    "jupyter": {
     "outputs_hidden": false
    },
    "pycharm": {
     "name": "#%%\n"
    }
   },
   "outputs": [
    {
     "name": "stdout",
     "output_type": "stream",
     "text": [
      "[True, (5+6j), 0.6666666666666666, 5]\n"
     ]
    }
   ],
   "source": [
    "# reverse order\n",
    "e2.reverse()\n",
    "print(e2)"
   ]
  },
  {
   "cell_type": "code",
   "execution_count": 126,
   "metadata": {
    "collapsed": false,
    "jupyter": {
     "outputs_hidden": false
    },
    "pycharm": {
     "name": "#%%\n"
    }
   },
   "outputs": [
    {
     "name": "stdout",
     "output_type": "stream",
     "text": [
      "There are 3 ones in the list\n"
     ]
    }
   ],
   "source": [
    "# count number of occurrence in list\n",
    "e3 = [1,1,2,3,1,2]\n",
    "print('There are {} ones in the list'.format(e3.count(1)))"
   ]
  },
  {
   "cell_type": "markdown",
   "metadata": {},
   "source": [
    "### Tuple\n",
    "- Immutable"
   ]
  },
  {
   "cell_type": "code",
   "execution_count": 127,
   "metadata": {
    "collapsed": false,
    "jupyter": {
     "outputs_hidden": false
    },
    "pycharm": {
     "name": "#%%\n"
    }
   },
   "outputs": [
    {
     "name": "stdout",
     "output_type": "stream",
     "text": [
      "<class 'tuple'> (4, 0.6666666666666666, (5+6j), True)\n",
      "4\n"
     ]
    }
   ],
   "source": [
    "f = (a,b,c,d)\n",
    "print(type(f),f)\n",
    "\n",
    "# access elements using index\n",
    "print(f[0])"
   ]
  },
  {
   "cell_type": "markdown",
   "source": [
    "cannot change value (immutable)"
   ],
   "metadata": {
    "collapsed": false,
    "pycharm": {
     "name": "#%% md\n"
    }
   }
  },
  {
   "cell_type": "code",
   "execution_count": 129,
   "metadata": {
    "collapsed": false,
    "jupyter": {
     "outputs_hidden": false
    },
    "pycharm": {
     "name": "#%%\n"
    }
   },
   "outputs": [
    {
     "ename": "TypeError",
     "evalue": "'tuple' object does not support item assignment",
     "output_type": "error",
     "traceback": [
      "\u001B[1;31m---------------------------------------------------------------------------\u001B[0m",
      "\u001B[1;31mTypeError\u001B[0m                                 Traceback (most recent call last)",
      "\u001B[1;32m<ipython-input-129-9a88aae949a0>\u001B[0m in \u001B[0;36m<module>\u001B[1;34m\u001B[0m\n\u001B[1;32m----> 1\u001B[1;33m \u001B[0mf\u001B[0m\u001B[1;33m[\u001B[0m\u001B[1;36m0\u001B[0m\u001B[1;33m]\u001B[0m\u001B[1;33m=\u001B[0m\u001B[1;36m5\u001B[0m\u001B[1;33m\u001B[0m\u001B[1;33m\u001B[0m\u001B[0m\n\u001B[0m\u001B[0;32m      2\u001B[0m \u001B[1;33m\u001B[0m\u001B[0m\n",
      "\u001B[1;31mTypeError\u001B[0m: 'tuple' object does not support item assignment"
     ]
    }
   ],
   "source": [
    "f[0]=5"
   ]
  },
  {
   "cell_type": "markdown",
   "metadata": {},
   "source": [
    "### Set\n",
    "- no index/order, unchangeable, but can add or remove item"
   ]
  },
  {
   "cell_type": "code",
   "execution_count": 130,
   "metadata": {
    "collapsed": false,
    "jupyter": {
     "outputs_hidden": false
    },
    "pycharm": {
     "name": "#%%\n"
    }
   },
   "outputs": [
    {
     "name": "stdout",
     "output_type": "stream",
     "text": [
      "<class 'set'> {0.6666666666666666, True, 4, (5+6j)}\n",
      "<class 'tuple'> (4, 0.6666666666666666, (5+6j), True)\n"
     ]
    }
   ],
   "source": [
    "set_A = {a,b,c,d}\n",
    "print(type(set_A),set_A)\n",
    "print(type(f),f)"
   ]
  },
  {
   "cell_type": "code",
   "execution_count": 131,
   "metadata": {
    "collapsed": false,
    "jupyter": {
     "outputs_hidden": false
    },
    "pycharm": {
     "name": "#%%\n"
    }
   },
   "outputs": [
    {
     "ename": "TypeError",
     "evalue": "'set' object is not subscriptable",
     "output_type": "error",
     "traceback": [
      "\u001B[1;31m---------------------------------------------------------------------------\u001B[0m",
      "\u001B[1;31mTypeError\u001B[0m                                 Traceback (most recent call last)",
      "\u001B[1;32m<ipython-input-131-72b5dc881c34>\u001B[0m in \u001B[0;36m<module>\u001B[1;34m\u001B[0m\n\u001B[0;32m      1\u001B[0m \u001B[1;31m# cannot access elements using index\u001B[0m\u001B[1;33m\u001B[0m\u001B[1;33m\u001B[0m\u001B[1;33m\u001B[0m\u001B[0m\n\u001B[1;32m----> 2\u001B[1;33m \u001B[0mprint\u001B[0m\u001B[1;33m(\u001B[0m\u001B[0mset_A\u001B[0m\u001B[1;33m[\u001B[0m\u001B[1;36m0\u001B[0m\u001B[1;33m]\u001B[0m\u001B[1;33m)\u001B[0m\u001B[1;33m\u001B[0m\u001B[1;33m\u001B[0m\u001B[0m\n\u001B[0m\u001B[0;32m      3\u001B[0m \u001B[1;33m\u001B[0m\u001B[0m\n",
      "\u001B[1;31mTypeError\u001B[0m: 'set' object is not subscriptable"
     ]
    }
   ],
   "source": [
    "# cannot access elements using index\n",
    "print(set_A[0])"
   ]
  },
  {
   "cell_type": "code",
   "execution_count": 132,
   "metadata": {
    "pycharm": {
     "name": "#%%\n"
    }
   },
   "outputs": [
    {
     "name": "stdout",
     "output_type": "stream",
     "text": [
      "set A {0.6666666666666666, True, 4, (5+6j)}\n",
      "set B {0.6666666666666666, 'hi', 4, (5+6j)}\n",
      "A n B {0.6666666666666666, 4, (5+6j)}\n"
     ]
    }
   ],
   "source": [
    "set_B = {a,b,c,'hi'}\n",
    "intersection = set_A.intersection(set_B)\n",
    "\n",
    "print('set A',set_A)\n",
    "print('set B',set_B)\n",
    "print('A n B',intersection)"
   ]
  },
  {
   "cell_type": "markdown",
   "metadata": {
    "pycharm": {
     "name": "#%% md\n"
    }
   },
   "source": [
    "### Dictionary"
   ]
  },
  {
   "cell_type": "code",
   "execution_count": 133,
   "metadata": {
    "collapsed": false,
    "jupyter": {
     "outputs_hidden": false
    },
    "pycharm": {
     "name": "#%%\n"
    }
   },
   "outputs": [
    {
     "name": "stdout",
     "output_type": "stream",
     "text": [
      "<class 'dict'> {'int': 4, 'float': 0.6666666666666666, 'complex': (5+6j), 'bool': True, 'list': [1, 2, 3, 4], 'tuple': (4, 0.6666666666666666, (5+6j), True), 'set': {0.6666666666666666, True, 4, (5+6j)}}\n"
     ]
    }
   ],
   "source": [
    "dict_A = {'int':a,\n",
    "     'float':b,\n",
    "     'complex':c,\n",
    "     'bool':d,\n",
    "     'list':e1,\n",
    "     'tuple':f,\n",
    "     'set':set_A}\n",
    "print(type(dict_A),dict_A)"
   ]
  },
  {
   "cell_type": "markdown",
   "metadata": {
    "pycharm": {
     "name": "#%% md\n"
    }
   },
   "source": [
    "#### Access elements using 'key' tag"
   ]
  },
  {
   "cell_type": "code",
   "execution_count": 134,
   "metadata": {
    "collapsed": false,
    "jupyter": {
     "outputs_hidden": false
    },
    "pycharm": {
     "name": "#%%\n"
    }
   },
   "outputs": [
    {
     "name": "stdout",
     "output_type": "stream",
     "text": [
      "<class 'int'> 4\n"
     ]
    }
   ],
   "source": [
    "print(type(dict_A['int']),dict_A['int'])"
   ]
  },
  {
   "cell_type": "markdown",
   "metadata": {
    "pycharm": {
     "name": "#%% md\n"
    }
   },
   "source": [
    "#### Get a list of all keys"
   ]
  },
  {
   "cell_type": "code",
   "execution_count": 135,
   "metadata": {
    "collapsed": false,
    "jupyter": {
     "outputs_hidden": false
    },
    "pycharm": {
     "name": "#%%\n"
    }
   },
   "outputs": [
    {
     "name": "stdout",
     "output_type": "stream",
     "text": [
      "dict_keys(['int', 'float', 'complex', 'bool', 'list', 'tuple', 'set'])\n"
     ]
    }
   ],
   "source": [
    "print(dict_A.keys())"
   ]
  },
  {
   "cell_type": "markdown",
   "metadata": {
    "pycharm": {
     "name": "#%% md\n"
    }
   },
   "source": [
    "#### Add a new entry"
   ]
  },
  {
   "cell_type": "code",
   "execution_count": 136,
   "metadata": {
    "collapsed": false,
    "jupyter": {
     "outputs_hidden": false
    },
    "pycharm": {
     "name": "#%%\n"
    }
   },
   "outputs": [
    {
     "name": "stdout",
     "output_type": "stream",
     "text": [
      "{'int': 4, 'float': 0.6666666666666666, 'complex': (5+6j), 'bool': True, 'list': [1, 2, 3, 4], 'tuple': (4, 0.6666666666666666, (5+6j), True), 'set': {0.6666666666666666, True, 4, (5+6j)}, 'my_name': 'kyu'}\n"
     ]
    }
   ],
   "source": [
    "dict_A[\"my_name\"]='kyu'\n",
    "print(dict_A)"
   ]
  },
  {
   "cell_type": "markdown",
   "metadata": {
    "pycharm": {
     "name": "#%% md\n"
    }
   },
   "source": [
    "#### Change existing value"
   ]
  },
  {
   "cell_type": "code",
   "execution_count": 137,
   "metadata": {
    "collapsed": false,
    "jupyter": {
     "outputs_hidden": false
    },
    "pycharm": {
     "name": "#%%\n"
    }
   },
   "outputs": [
    {
     "name": "stdout",
     "output_type": "stream",
     "text": [
      "{'int': 4, 'float': 0.6666666666666666, 'complex': (5+6j), 'bool': True, 'list': [1, 2, 3, 4], 'tuple': (4, 0.6666666666666666, (5+6j), True), 'set': {0.6666666666666666, True, 4, (5+6j)}, 'my_name': 'q'}\n"
     ]
    }
   ],
   "source": [
    "dict_A[\"my_name\"]='q'\n",
    "print(dict_A)"
   ]
  },
  {
   "cell_type": "markdown",
   "metadata": {
    "pycharm": {
     "name": "#%% md\n"
    }
   },
   "source": [
    "#### Delete an entry"
   ]
  },
  {
   "cell_type": "code",
   "execution_count": 138,
   "metadata": {
    "collapsed": false,
    "jupyter": {
     "outputs_hidden": false
    },
    "pycharm": {
     "name": "#%%\n"
    }
   },
   "outputs": [
    {
     "name": "stdout",
     "output_type": "stream",
     "text": [
      "{'int': 4, 'float': 0.6666666666666666, 'complex': (5+6j), 'bool': True, 'list': [1, 2, 3, 4], 'tuple': (4, 0.6666666666666666, (5+6j), True), 'set': {0.6666666666666666, True, 4, (5+6j)}}\n"
     ]
    }
   ],
   "source": [
    "del dict_A[\"my_name\"]\n",
    "print(dict_A)"
   ]
  },
  {
   "cell_type": "markdown",
   "metadata": {
    "pycharm": {
     "name": "#%% md\n"
    }
   },
   "source": [
    "## Tip 2: Antoine's Equation\n",
    "\n",
    "A correlation between vapor pressure and temperature of a pure substance\n",
    "\n",
    "log<sub>10</sub>(P) = A − (B / (T + C))\n",
    "\n",
    "    P = vapor pressure (bar)\n",
    "    T = temperature (K)\n",
    "    A,B,C are Antoine coefficients\n",
    "\n",
    "Use Antoine coefficients from [NIST Chemistry webbook](https://webbook.nist.gov/chemistry/name-ser/)\n",
    "\n",
    "Enter chemical name and click \"Phase change\" in the search option.\n",
    "\n",
    "<font size=\"1\"> Reference: Yaws and Yang (Yaws, C.  L.  and Yang, H.  C.,\n",
    "\"To estimate vapor pressure easily. antoine coefficients relate vapor pressure to temperature for almost 700 major organic compounds\", Hydrocarbon Processing, 68(10), p65-68, 1989.\n",
    "</font>"
   ]
  },
  {
   "cell_type": "markdown",
   "metadata": {
    "pycharm": {
     "name": "#%% md\n"
    }
   },
   "source": [
    "#### Option #1: Manually look up the Antoine coefficients and copy the values here"
   ]
  },
  {
   "cell_type": "code",
   "execution_count": 139,
   "metadata": {
    "collapsed": false,
    "jupyter": {
     "outputs_hidden": false
    },
    "pycharm": {
     "name": "#%%\n"
    }
   },
   "outputs": [
    {
     "data": {
      "text/plain": "{'Molecule': ['water', 'ethanol', 'acetone'],\n 'A': [5.40221, 5.24677, 4.42448],\n 'B': [1838.675, 1598.673, 1312.253],\n 'C': [-31.737, -46.424, -32.445]}"
     },
     "execution_count": 139,
     "metadata": {},
     "output_type": "execute_result"
    }
   ],
   "source": [
    "molecules = ['water','ethanol','acetone']\n",
    "A = [5.40221,5.24677,4.42448]\n",
    "B = [1838.675,1598.673,1312.253]\n",
    "C = [-31.737,-46.424,-32.445]\n",
    "dict_manual = {'Molecule':molecules,\n",
    "               'A':A,\n",
    "               'B':B,\n",
    "               'C':C}\n",
    "dict_manual"
   ]
  },
  {
   "cell_type": "markdown",
   "metadata": {
    "pycharm": {
     "name": "#%% md\n"
    }
   },
   "source": [
    "#### Convert to pandas dataframe"
   ]
  },
  {
   "cell_type": "code",
   "execution_count": 140,
   "metadata": {
    "collapsed": false,
    "jupyter": {
     "outputs_hidden": false
    },
    "pycharm": {
     "name": "#%%\n"
    }
   },
   "outputs": [
    {
     "data": {
      "text/plain": "  Molecule        A         B       C\n0    water  5.40221  1838.675 -31.737\n1  ethanol  5.24677  1598.673 -46.424\n2  acetone  4.42448  1312.253 -32.445",
      "text/html": "<div>\n<style scoped>\n    .dataframe tbody tr th:only-of-type {\n        vertical-align: middle;\n    }\n\n    .dataframe tbody tr th {\n        vertical-align: top;\n    }\n\n    .dataframe thead th {\n        text-align: right;\n    }\n</style>\n<table border=\"1\" class=\"dataframe\">\n  <thead>\n    <tr style=\"text-align: right;\">\n      <th></th>\n      <th>Molecule</th>\n      <th>A</th>\n      <th>B</th>\n      <th>C</th>\n    </tr>\n  </thead>\n  <tbody>\n    <tr>\n      <th>0</th>\n      <td>water</td>\n      <td>5.40221</td>\n      <td>1838.675</td>\n      <td>-31.737</td>\n    </tr>\n    <tr>\n      <th>1</th>\n      <td>ethanol</td>\n      <td>5.24677</td>\n      <td>1598.673</td>\n      <td>-46.424</td>\n    </tr>\n    <tr>\n      <th>2</th>\n      <td>acetone</td>\n      <td>4.42448</td>\n      <td>1312.253</td>\n      <td>-32.445</td>\n    </tr>\n  </tbody>\n</table>\n</div>"
     },
     "execution_count": 140,
     "metadata": {},
     "output_type": "execute_result"
    }
   ],
   "source": [
    "import pandas as pd\n",
    "\n",
    "df = pd.DataFrame(dict_manual)\n",
    "df"
   ]
  },
  {
   "cell_type": "code",
   "execution_count": 141,
   "metadata": {
    "collapsed": false,
    "jupyter": {
     "outputs_hidden": false
    },
    "pycharm": {
     "name": "#%%\n"
    }
   },
   "outputs": [
    {
     "name": "stdout",
     "output_type": "stream",
     "text": [
      "Molecule        A         B       C\n",
      "   water  5.40221  1838.675 -31.737\n",
      " ethanol  5.24677  1598.673 -46.424\n",
      " acetone  4.42448  1312.253 -32.445\n"
     ]
    }
   ],
   "source": [
    "# print without index\n",
    "print(df.to_string(index=False))"
   ]
  },
  {
   "cell_type": "markdown",
   "metadata": {
    "pycharm": {
     "name": "#%% md\n"
    }
   },
   "source": [
    "#### Option #2: Automatically read Antoine coefficients into Jupyter using provided function \"get_antoine_coefficient\"\n",
    "\n",
    "    pip install beautifulsoup4\n",
    "    pip install requests"
   ]
  },
  {
   "cell_type": "code",
   "execution_count": 142,
   "metadata": {
    "collapsed": false,
    "jupyter": {
     "outputs_hidden": false
    },
    "pycharm": {
     "name": "#%%\n"
    }
   },
   "outputs": [
    {
     "data": {
      "text/plain": "(5.40221, 1838.675, -31.737, 273.0, 303.0)"
     },
     "execution_count": 142,
     "metadata": {},
     "output_type": "execute_result"
    }
   ],
   "source": [
    "from get_antoine_coefficient import get_antoine_coefficient\n",
    "\n",
    "A,B,C,Tmin,Tmax = get_antoine_coefficient('water',300) # molecule, reference temperature \n",
    "A,B,C,Tmin,Tmax"
   ]
  },
  {
   "cell_type": "code",
   "execution_count": 143,
   "metadata": {
    "collapsed": false,
    "jupyter": {
     "outputs_hidden": false
    },
    "pycharm": {
     "name": "#%%\n"
    }
   },
   "outputs": [
    {
     "data": {
      "text/plain": "([5.40221, 5.24677, 4.42448],\n [1838.675, 1598.673, 1312.253],\n [-31.737, -46.424, -32.445],\n [273.0, 292.77, 259.16],\n [303.0, 366.63, 507.6])"
     },
     "execution_count": 143,
     "metadata": {},
     "output_type": "execute_result"
    }
   ],
   "source": [
    "As,Bs,Cs,Tmins,Tmaxs = [],[],[],[],[]\n",
    "\n",
    "molecules = ['water','ethanol','acetone']\n",
    "for molecule in molecules:\n",
    "    A,B,C,Tmin,Tmax = get_antoine_coefficient(molecule,300)\n",
    "    \n",
    "    As.append(A)\n",
    "    Bs.append(B)\n",
    "    Cs.append(C)\n",
    "    Tmins.append(Tmin)\n",
    "    Tmaxs.append(Tmax)\n",
    "\n",
    "As,Bs,Cs,Tmins,Tmaxs"
   ]
  },
  {
   "cell_type": "code",
   "execution_count": 144,
   "metadata": {
    "collapsed": false,
    "jupyter": {
     "outputs_hidden": false
    },
    "pycharm": {
     "name": "#%%\n"
    }
   },
   "outputs": [
    {
     "data": {
      "text/plain": "  Molecule        A         B       C    Tmin    Tmax\n0    water  5.40221  1838.675 -31.737  273.00  303.00\n1  ethanol  5.24677  1598.673 -46.424  292.77  366.63\n2  acetone  4.42448  1312.253 -32.445  259.16  507.60",
      "text/html": "<div>\n<style scoped>\n    .dataframe tbody tr th:only-of-type {\n        vertical-align: middle;\n    }\n\n    .dataframe tbody tr th {\n        vertical-align: top;\n    }\n\n    .dataframe thead th {\n        text-align: right;\n    }\n</style>\n<table border=\"1\" class=\"dataframe\">\n  <thead>\n    <tr style=\"text-align: right;\">\n      <th></th>\n      <th>Molecule</th>\n      <th>A</th>\n      <th>B</th>\n      <th>C</th>\n      <th>Tmin</th>\n      <th>Tmax</th>\n    </tr>\n  </thead>\n  <tbody>\n    <tr>\n      <th>0</th>\n      <td>water</td>\n      <td>5.40221</td>\n      <td>1838.675</td>\n      <td>-31.737</td>\n      <td>273.00</td>\n      <td>303.00</td>\n    </tr>\n    <tr>\n      <th>1</th>\n      <td>ethanol</td>\n      <td>5.24677</td>\n      <td>1598.673</td>\n      <td>-46.424</td>\n      <td>292.77</td>\n      <td>366.63</td>\n    </tr>\n    <tr>\n      <th>2</th>\n      <td>acetone</td>\n      <td>4.42448</td>\n      <td>1312.253</td>\n      <td>-32.445</td>\n      <td>259.16</td>\n      <td>507.60</td>\n    </tr>\n  </tbody>\n</table>\n</div>"
     },
     "execution_count": 144,
     "metadata": {},
     "output_type": "execute_result"
    }
   ],
   "source": [
    "dict = {'Molecule':molecules,\n",
    "        'A':As,\n",
    "        'B':Bs,\n",
    "        'C':Cs,\n",
    "        'Tmin':Tmins,\n",
    "        'Tmax':Tmaxs}\n",
    "df = pd.DataFrame(dict)\n",
    "df"
   ]
  },
  {
   "cell_type": "markdown",
   "metadata": {
    "jupyter": {
     "outputs_hidden": false
    },
    "pycharm": {
     "name": "#%% md\n"
    }
   },
   "source": [
    "### Calculate P using A,B,C,T\n",
    "\n",
    "Antoine's Equation: log<sub>10</sub>(P) = A − (B / (T + C))\n",
    "\n",
    "Converted form: P = 10**(A - B / ( T + C))\n",
    "\n",
    "** means power/exponentiation"
   ]
  },
  {
   "cell_type": "markdown",
   "metadata": {
    "pycharm": {
     "name": "#%% md\n"
    }
   },
   "source": [
    "#### manual entry of parameters"
   ]
  },
  {
   "cell_type": "code",
   "execution_count": 145,
   "metadata": {
    "collapsed": false,
    "jupyter": {
     "outputs_hidden": false
    },
    "pycharm": {
     "name": "#%%\n"
    }
   },
   "outputs": [
    {
     "name": "stdout",
     "output_type": "stream",
     "text": [
      "Vapor pressure of acetone at 300K is 0.331bar\n"
     ]
    }
   ],
   "source": [
    "A = 4.42448\n",
    "B = 1312.253\n",
    "C = -32.445\n",
    "T = 300 # Kelvin\n",
    "P = 10**(A - B / ( T + C))\n",
    "print(\"Vapor pressure of acetone at {}K is {:.3f}bar\".format(T,P)) # Bar"
   ]
  },
  {
   "cell_type": "markdown",
   "metadata": {
    "pycharm": {
     "name": "#%% md\n"
    }
   },
   "source": [
    "#### use dataframe to organize the data and access the data as needed"
   ]
  },
  {
   "cell_type": "code",
   "execution_count": 146,
   "metadata": {
    "collapsed": false,
    "jupyter": {
     "outputs_hidden": false
    },
    "pycharm": {
     "name": "#%%\n"
    }
   },
   "outputs": [
    {
     "data": {
      "text/plain": "  Molecule        A         B       C    Tmin    Tmax\n0    water  5.40221  1838.675 -31.737  273.00  303.00\n1  ethanol  5.24677  1598.673 -46.424  292.77  366.63\n2  acetone  4.42448  1312.253 -32.445  259.16  507.60",
      "text/html": "<div>\n<style scoped>\n    .dataframe tbody tr th:only-of-type {\n        vertical-align: middle;\n    }\n\n    .dataframe tbody tr th {\n        vertical-align: top;\n    }\n\n    .dataframe thead th {\n        text-align: right;\n    }\n</style>\n<table border=\"1\" class=\"dataframe\">\n  <thead>\n    <tr style=\"text-align: right;\">\n      <th></th>\n      <th>Molecule</th>\n      <th>A</th>\n      <th>B</th>\n      <th>C</th>\n      <th>Tmin</th>\n      <th>Tmax</th>\n    </tr>\n  </thead>\n  <tbody>\n    <tr>\n      <th>0</th>\n      <td>water</td>\n      <td>5.40221</td>\n      <td>1838.675</td>\n      <td>-31.737</td>\n      <td>273.00</td>\n      <td>303.00</td>\n    </tr>\n    <tr>\n      <th>1</th>\n      <td>ethanol</td>\n      <td>5.24677</td>\n      <td>1598.673</td>\n      <td>-46.424</td>\n      <td>292.77</td>\n      <td>366.63</td>\n    </tr>\n    <tr>\n      <th>2</th>\n      <td>acetone</td>\n      <td>4.42448</td>\n      <td>1312.253</td>\n      <td>-32.445</td>\n      <td>259.16</td>\n      <td>507.60</td>\n    </tr>\n  </tbody>\n</table>\n</div>"
     },
     "execution_count": 146,
     "metadata": {},
     "output_type": "execute_result"
    }
   ],
   "source": [
    "df"
   ]
  },
  {
   "cell_type": "markdown",
   "metadata": {
    "pycharm": {
     "name": "#%% md\n"
    }
   },
   "source": [
    "#### option 1: select specific row of dataframe using condition"
   ]
  },
  {
   "cell_type": "code",
   "execution_count": 147,
   "metadata": {
    "collapsed": false,
    "jupyter": {
     "outputs_hidden": false
    },
    "pycharm": {
     "name": "#%%\n"
    }
   },
   "outputs": [
    {
     "data": {
      "text/plain": "  Molecule        A         B       C    Tmin   Tmax\n2  acetone  4.42448  1312.253 -32.445  259.16  507.6",
      "text/html": "<div>\n<style scoped>\n    .dataframe tbody tr th:only-of-type {\n        vertical-align: middle;\n    }\n\n    .dataframe tbody tr th {\n        vertical-align: top;\n    }\n\n    .dataframe thead th {\n        text-align: right;\n    }\n</style>\n<table border=\"1\" class=\"dataframe\">\n  <thead>\n    <tr style=\"text-align: right;\">\n      <th></th>\n      <th>Molecule</th>\n      <th>A</th>\n      <th>B</th>\n      <th>C</th>\n      <th>Tmin</th>\n      <th>Tmax</th>\n    </tr>\n  </thead>\n  <tbody>\n    <tr>\n      <th>2</th>\n      <td>acetone</td>\n      <td>4.42448</td>\n      <td>1312.253</td>\n      <td>-32.445</td>\n      <td>259.16</td>\n      <td>507.6</td>\n    </tr>\n  </tbody>\n</table>\n</div>"
     },
     "execution_count": 147,
     "metadata": {},
     "output_type": "execute_result"
    }
   ],
   "source": [
    "acetone = df[df['Molecule']=='acetone']\n",
    "acetone"
   ]
  },
  {
   "cell_type": "markdown",
   "metadata": {
    "pycharm": {
     "name": "#%% md\n"
    }
   },
   "source": [
    "#### option 2: make a column to be new index"
   ]
  },
  {
   "cell_type": "code",
   "execution_count": 148,
   "outputs": [
    {
     "data": {
      "text/plain": "                A         B       C    Tmin    Tmax\nMolecule                                           \nwater     5.40221  1838.675 -31.737  273.00  303.00\nethanol   5.24677  1598.673 -46.424  292.77  366.63\nacetone   4.42448  1312.253 -32.445  259.16  507.60",
      "text/html": "<div>\n<style scoped>\n    .dataframe tbody tr th:only-of-type {\n        vertical-align: middle;\n    }\n\n    .dataframe tbody tr th {\n        vertical-align: top;\n    }\n\n    .dataframe thead th {\n        text-align: right;\n    }\n</style>\n<table border=\"1\" class=\"dataframe\">\n  <thead>\n    <tr style=\"text-align: right;\">\n      <th></th>\n      <th>A</th>\n      <th>B</th>\n      <th>C</th>\n      <th>Tmin</th>\n      <th>Tmax</th>\n    </tr>\n    <tr>\n      <th>Molecule</th>\n      <th></th>\n      <th></th>\n      <th></th>\n      <th></th>\n      <th></th>\n    </tr>\n  </thead>\n  <tbody>\n    <tr>\n      <th>water</th>\n      <td>5.40221</td>\n      <td>1838.675</td>\n      <td>-31.737</td>\n      <td>273.00</td>\n      <td>303.00</td>\n    </tr>\n    <tr>\n      <th>ethanol</th>\n      <td>5.24677</td>\n      <td>1598.673</td>\n      <td>-46.424</td>\n      <td>292.77</td>\n      <td>366.63</td>\n    </tr>\n    <tr>\n      <th>acetone</th>\n      <td>4.42448</td>\n      <td>1312.253</td>\n      <td>-32.445</td>\n      <td>259.16</td>\n      <td>507.60</td>\n    </tr>\n  </tbody>\n</table>\n</div>"
     },
     "execution_count": 148,
     "metadata": {},
     "output_type": "execute_result"
    }
   ],
   "source": [
    "df.set_index('Molecule',inplace=True)\n",
    "df"
   ],
   "metadata": {
    "collapsed": false,
    "pycharm": {
     "name": "#%%\n"
    }
   }
  },
  {
   "cell_type": "markdown",
   "source": [
    "####  use \"loc\" function to index a specific row of the dataframe"
   ],
   "metadata": {
    "collapsed": false
   }
  },
  {
   "cell_type": "code",
   "execution_count": 149,
   "outputs": [
    {
     "data": {
      "text/plain": "A          4.42448\nB       1312.25300\nC        -32.44500\nTmin     259.16000\nTmax     507.60000\nName: acetone, dtype: float64"
     },
     "execution_count": 149,
     "metadata": {},
     "output_type": "execute_result"
    }
   ],
   "source": [
    "df.loc['acetone']"
   ],
   "metadata": {
    "collapsed": false,
    "pycharm": {
     "name": "#%%\n"
    }
   }
  },
  {
   "cell_type": "code",
   "execution_count": 150,
   "outputs": [
    {
     "name": "stdout",
     "output_type": "stream",
     "text": [
      "Vapor pressure of acetone at 300K is 0.331bar\n"
     ]
    }
   ],
   "source": [
    "A = df.loc['acetone']['A']\n",
    "B = df.loc['acetone']['B']\n",
    "C = df.loc['acetone']['C']\n",
    "T = 300 # Kelvin\n",
    "P = 10**(A - B / ( T + C))\n",
    "print(\"Vapor pressure of acetone at {}K is {:.3f}bar\".format(T,P)) #"
   ],
   "metadata": {
    "collapsed": false,
    "pycharm": {
     "name": "#%%\n"
    }
   }
  },
  {
   "cell_type": "code",
   "execution_count": 151,
   "metadata": {
    "collapsed": false,
    "jupyter": {
     "outputs_hidden": false
    },
    "pycharm": {
     "name": "#%%\n"
    }
   },
   "outputs": [
    {
     "data": {
      "text/plain": "Text(0, 0.5, 'Vapor pressure [Bar]')"
     },
     "execution_count": 151,
     "metadata": {},
     "output_type": "execute_result"
    },
    {
     "data": {
      "text/plain": "<Figure size 432x288 with 1 Axes>",
      "image/png": "[encoded data removed]"
     },
     "metadata": {
      "needs_background": "light"
     },
     "output_type": "display_data"
    }
   ],
   "source": [
    "import matplotlib.pyplot as plt\n",
    "plt.scatter(T,P)\n",
    "plt.xlabel('Temperature [K]')\n",
    "plt.ylabel('Vapor pressure [Bar]')"
   ]
  },
  {
   "cell_type": "markdown",
   "metadata": {
    "pycharm": {
     "name": "#%% md\n"
    }
   },
   "source": [
    "#### use \"loc\" function to index a specific row of the dataframe"
   ]
  },
  {
   "cell_type": "code",
   "execution_count": 152,
   "metadata": {
    "collapsed": false,
    "jupyter": {
     "outputs_hidden": false
    },
    "pycharm": {
     "name": "#%%\n"
    }
   },
   "outputs": [
    {
     "data": {
      "text/plain": "A          4.42448\nB       1312.25300\nC        -32.44500\nTmin     259.16000\nTmax     507.60000\nName: acetone, dtype: float64"
     },
     "execution_count": 152,
     "metadata": {},
     "output_type": "execute_result"
    }
   ],
   "source": [
    "df.loc['acetone']"
   ]
  },
  {
   "cell_type": "code",
   "execution_count": 153,
   "metadata": {
    "collapsed": false,
    "jupyter": {
     "outputs_hidden": false
    },
    "pycharm": {
     "name": "#%%\n"
    }
   },
   "outputs": [
    {
     "name": "stdout",
     "output_type": "stream",
     "text": [
      "Vapor pressure of acetone at 300K is 0.331bar\n"
     ]
    }
   ],
   "source": [
    "A = df.loc['acetone']['A']\n",
    "B = df.loc['acetone']['B']\n",
    "C = df.loc['acetone']['C']\n",
    "T = 300 # Kelvin\n",
    "P = 10**(A - B / ( T + C))\n",
    "print(\"Vapor pressure of acetone at {}K is {:.3f}bar\".format(T,P)) #"
   ]
  },
  {
   "cell_type": "code",
   "execution_count": 154,
   "metadata": {
    "collapsed": false,
    "jupyter": {
     "outputs_hidden": false
    },
    "pycharm": {
     "name": "#%%\n"
    }
   },
   "outputs": [
    {
     "data": {
      "text/plain": "Text(0, 0.5, 'Vapor pressure [Bar]')"
     },
     "execution_count": 154,
     "metadata": {},
     "output_type": "execute_result"
    },
    {
     "data": {
      "text/plain": "<Figure size 432x288 with 1 Axes>",
      "image/png": "[encoded data removed]"
     },
     "metadata": {
      "needs_background": "light"
     },
     "output_type": "display_data"
    }
   ],
   "source": [
    "import matplotlib.pyplot as plt\n",
    "plt.scatter(T,P)\n",
    "# plot properties\n",
    "plt.xlabel('Temperature [K]')\n",
    "plt.ylabel('Vapor pressure [Bar]')"
   ]
  },
  {
   "cell_type": "code",
   "execution_count": 155,
   "metadata": {
    "collapsed": false,
    "jupyter": {
     "outputs_hidden": false
    },
    "pycharm": {
     "name": "#%%\n"
    }
   },
   "outputs": [
    {
     "data": {
      "text/plain": "Text(0, 0.5, 'Vapor pressure [Bar]')"
     },
     "execution_count": 155,
     "metadata": {},
     "output_type": "execute_result"
    },
    {
     "data": {
      "text/plain": "<Figure size 432x288 with 1 Axes>",
      "image/png": "[encoded data removed]"
     },
     "metadata": {
      "needs_background": "light"
     },
     "output_type": "display_data"
    }
   ],
   "source": [
    "import numpy as np\n",
    "\n",
    "Tmin = df.loc['acetone']['Tmin']\n",
    "Tmax = df.loc['acetone']['Tmax']\n",
    "\n",
    "T = np.linspace(Tmin,Tmax,50) #start,end,step\n",
    "P = 10**(A - B / ( T + C))\n",
    "plt.scatter(T,P)\n",
    "# plot properties\n",
    "plt.title('scatter plot')\n",
    "plt.xlabel('Temperature [K]')\n",
    "plt.ylabel('Vapor pressure [Bar]')"
   ]
  },
  {
   "cell_type": "code",
   "execution_count": 156,
   "metadata": {
    "collapsed": false,
    "jupyter": {
     "outputs_hidden": false
    },
    "pycharm": {
     "name": "#%%\n"
    }
   },
   "outputs": [
    {
     "data": {
      "text/plain": "Text(0, 0.5, 'Vapor pressure [Bar]')"
     },
     "execution_count": 156,
     "metadata": {},
     "output_type": "execute_result"
    },
    {
     "data": {
      "text/plain": "<Figure size 432x288 with 1 Axes>",
      "image/png": "[encoded data removed]"
     },
     "metadata": {
      "needs_background": "light"
     },
     "output_type": "display_data"
    }
   ],
   "source": [
    "plt.plot(T,P)\n",
    "# plot properties\n",
    "plt.title('line plot')\n",
    "plt.xlabel('Temperature [K]')\n",
    "plt.ylabel('Vapor pressure [Bar]')"
   ]
  },
  {
   "cell_type": "code",
   "execution_count": 157,
   "metadata": {
    "collapsed": false,
    "jupyter": {
     "outputs_hidden": false
    },
    "pycharm": {
     "name": "#%%\n"
    }
   },
   "outputs": [],
   "source": [
    "#Source of data: CRC Handbook of Chemistry and Physics 44th ed\n",
    "T_crc = np.array([-59.4,-31.1,-9.4,7.7,39.5,56.5]) #celcius\n",
    "P_crc = np.array([1,10,40,100,400,760]) #mmhg\n",
    "# unit conversion\n",
    "T_crc = T_crc+273.15 #kelvin\n",
    "P_crc = P_crc/750.0617 #bar"
   ]
  },
  {
   "cell_type": "code",
   "execution_count": 165,
   "metadata": {
    "collapsed": false,
    "jupyter": {
     "outputs_hidden": false
    },
    "pycharm": {
     "name": "#%%\n"
    }
   },
   "outputs": [
    {
     "data": {
      "text/plain": "Text(0, 0.5, 'Vapor pressure [Bar]')"
     },
     "execution_count": 165,
     "metadata": {},
     "output_type": "execute_result"
    },
    {
     "data": {
      "text/plain": "<Figure size 432x288 with 1 Axes>",
      "image/png": "[encoded data removed]"
     },
     "metadata": {
      "needs_background": "light"
     },
     "output_type": "display_data"
    }
   ],
   "source": [
    "plt.plot(T,P)\n",
    "plt.plot(T_crc, P_crc, 'bo')\n",
    "plt.legend(['NIST Chemistry webbook','CRC Handbook'], loc='best')\n",
    "plt.title('compare with experimental values')\n",
    "plt.xlabel('Temperature [K]')\n",
    "plt.ylabel('Vapor pressure [Bar]')"
   ]
  },
  {
   "cell_type": "code",
   "execution_count": 166,
   "outputs": [
    {
     "data": {
      "text/plain": "Text(0, 0.5, 'Vapor pressure [Bar]')"
     },
     "execution_count": 166,
     "metadata": {},
     "output_type": "execute_result"
    },
    {
     "data": {
      "text/plain": "<Figure size 432x288 with 1 Axes>",
      "image/png": "[encoded data removed]"
     },
     "metadata": {
      "needs_background": "light"
     },
     "output_type": "display_data"
    }
   ],
   "source": [
    "plt.plot(T,P)\n",
    "plt.plot(T_crc, P_crc, 'bo')\n",
    "plt.title('adjust field of view')\n",
    "plt.legend(['NIST Chemistry webbook','CRC Handbook'], loc='best')\n",
    "plt.xlim([200,350])\n",
    "plt.ylim([-1,2])\n",
    "plt.xlabel('Temperature [K]')\n",
    "plt.ylabel('Vapor pressure [Bar]')"
   ],
   "metadata": {
    "collapsed": false,
    "pycharm": {
     "name": "#%%\n"
    }
   }
  },
  {
   "cell_type": "code",
   "execution_count": 162,
   "metadata": {
    "collapsed": false,
    "jupyter": {
     "outputs_hidden": false
    },
    "pycharm": {
     "name": "#%%\n"
    }
   },
   "outputs": [],
   "source": [
    "A = df.loc['ethanol']['A']\n",
    "B = df.loc['ethanol']['B']\n",
    "C = df.loc['ethanol']['C']\n",
    "Tmin = df.loc['ethanol']['Tmin']\n",
    "Tmax = df.loc['ethanol']['Tmax']\n",
    "T_ethanol = np.linspace(Tmin,Tmax,50) #start,end,step\n",
    "P_ethanol = 10**(A - B / ( T + C))"
   ]
  },
  {
   "cell_type": "code",
   "execution_count": 167,
   "metadata": {
    "collapsed": false,
    "jupyter": {
     "outputs_hidden": false
    },
    "pycharm": {
     "name": "#%%\n"
    }
   },
   "outputs": [
    {
     "data": {
      "text/plain": "Text(0, 0.5, 'Vapor pressure [Bar]')"
     },
     "execution_count": 167,
     "metadata": {},
     "output_type": "execute_result"
    },
    {
     "data": {
      "text/plain": "<Figure size 432x288 with 1 Axes>",
      "image/png": "[encoded data removed]"
     },
     "metadata": {
      "needs_background": "light"
     },
     "output_type": "display_data"
    }
   ],
   "source": [
    "plt.plot(T_ethanol,P_ethanol)\n",
    "plt.plot(T,P)\n",
    "plt.legend([\"Ethanol\", \"Acetone\"], loc =\"lower right\")\n",
    "plt.title('plot two molecules at once')\n",
    "plt.xlabel('Temperature [K]')\n",
    "plt.ylabel('Vapor pressure [Bar]')"
   ]
  }
 ],
 "metadata": {
  "kernelspec": {
   "display_name": "Python 3",
   "language": "python",
   "name": "python3"
  },
  "language_info": {
   "codemirror_mode": {
    "name": "ipython",
    "version": 3
   },
   "file_extension": ".py",
   "mimetype": "text/x-python",
   "name": "python",
   "nbconvert_exporter": "python",
   "pygments_lexer": "ipython3",
   "version": "3.8.5"
  }
 },
 "nbformat": 4,
 "nbformat_minor": 4
}