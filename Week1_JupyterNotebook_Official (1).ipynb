{
 "cells": [
  {
   "cell_type": "markdown",
   "metadata": {},
   "source": [
    "# Jupyter notebook <font color='Red'> installation </font> and setup\n",
    "\n",
    "https://jupyter.org/install\n"
   ]
  },
  {
   "cell_type": "markdown",
   "metadata": {},
   "source": [
    "## Option A - Install Jupyter notebook with Anaconda"
   ]
  },
  {
   "cell_type": "markdown",
   "metadata": {},
   "source": [
    "* Install with Window: https://docs.conda.io/projects/conda/en/latest/user-guide/install/windows.html\n",
    "* Install with MacOS: https://docs.conda.io/projects/conda/en/latest/user-guide/install/macos.html\n",
    "* Follow the website description to finish the Anaconda installation. "
   ]
  },
  {
   "cell_type": "markdown",
   "metadata": {},
   "source": [
    "If you have problem installing the Anaconda, please watch this video before the recitation. Corey did a very good job in explaining how to install the jupyter notebook with Anaconda. "
   ]
  },
  {
   "cell_type": "code",
   "execution_count": null,
   "metadata": {},
   "outputs": [],
   "source": [
    "from IPython.display import YouTubeVideo\n",
    "YouTubeVideo('HW29067qVWk', width=600, height=400, )"
   ]
  },
  {
   "cell_type": "markdown",
   "metadata": {},
   "source": [
    "## Option B - Install Jupyter notebook without Anaconda"
   ]
  },
  {
   "cell_type": "markdown",
   "metadata": {},
   "source": [
    "### Step1: At the terminal (mac), type the following: "
   ]
  },
  {
   "cell_type": "code",
   "execution_count": null,
   "metadata": {},
   "outputs": [],
   "source": [
    "pip install notebook"
   ]
  },
  {
   "cell_type": "markdown",
   "metadata": {},
   "source": [
    "### Step 2: Type the following command in the specified folder terminal\n",
    "Highly suggest you creat a folder on your desktop called Separation"
   ]
  },
  {
   "cell_type": "code",
   "execution_count": null,
   "metadata": {},
   "outputs": [],
   "source": [
    "jupyter notebook"
   ]
  },
  {
   "cell_type": "markdown",
   "metadata": {},
   "source": [
    "## Option C - Google Colab\n",
    "If you really have trouble installing the jupyter notebook today, it's not the end of the world. Try the **<font color='Red'> Google Colab </font>**, which is command-line free and only need several clicks to initiate the notebook."
   ]
  },
  {
   "cell_type": "markdown",
   "metadata": {},
   "source": [
    "### 1-step. Search Google Colab on your browser, and select \"New Notebook\". Start coding with us now!!!"
   ]
  },
  {
   "cell_type": "markdown",
   "metadata": {},
   "source": [
    "Note:  Both Jupyter notebook and the Google Colab works for this course, since Google Colab can export the Jupyter notebook (ipynb) format"
   ]
  },
  {
   "cell_type": "markdown",
   "metadata": {},
   "source": [
    "# Tip 1: **<font color='Red'> Directory </font>**- Knowing where we are and things we can reach"
   ]
  },
  {
   "cell_type": "markdown",
   "metadata": {},
   "source": [
    "### <font color='Red'> !pwd </font> let you get the current directory. Or think like which folder are you in right now"
   ]
  },
  {
   "cell_type": "code",
   "execution_count": null,
   "metadata": {},
   "outputs": [],
   "source": [
    "!pwd"
   ]
  },
  {
   "cell_type": "markdown",
   "metadata": {},
   "source": [
    "### <font color='Red'> %cd </font> let you change the working directory. Or think like which folder would you like to go and work in it"
   ]
  },
  {
   "cell_type": "code",
   "execution_count": null,
   "metadata": {},
   "outputs": [],
   "source": [
    "%cd /Users/henryhsueh/Desktop/TensorflowImageClassifier"
   ]
  },
  {
   "cell_type": "markdown",
   "metadata": {},
   "source": [
    "**Quick tip**: To copy the path in the MacOS system, you can right-click the folder you want to locate, and press(hold) the keyboard \"option\". The menu will show you an option \"copy XXX as Pathname\".You can copy the path and paste it to the cell in here."
   ]
  },
  {
   "cell_type": "markdown",
   "metadata": {},
   "source": [
    "### <font color='Red'> ls </font> let you see what thing is inside the folder"
   ]
  },
  {
   "cell_type": "code",
   "execution_count": null,
   "metadata": {},
   "outputs": [],
   "source": [
    "ls"
   ]
  },
  {
   "cell_type": "code",
   "execution_count": null,
   "metadata": {},
   "outputs": [],
   "source": [
    "!pwd"
   ]
  },
  {
   "cell_type": "code",
   "execution_count": null,
   "metadata": {},
   "outputs": [],
   "source": [
    "%cd /Users/henryhsueh/Desktop/Separation_TA"
   ]
  },
  {
   "cell_type": "code",
   "execution_count": null,
   "metadata": {},
   "outputs": [],
   "source": [
    "!pwd"
   ]
  },
  {
   "cell_type": "markdown",
   "metadata": {},
   "source": [
    "# Tip 2: **Working with <font color='Red'> Strings </font>**"
   ]
  },
  {
   "cell_type": "markdown",
   "metadata": {},
   "source": [
    "### Classic welcome message - Make sure you always have \" \" with your strings"
   ]
  },
  {
   "cell_type": "code",
   "execution_count": null,
   "metadata": {},
   "outputs": [],
   "source": [
    "print(\"Hello Blue Jays\")"
   ]
  },
  {
   "cell_type": "code",
   "execution_count": null,
   "metadata": {},
   "outputs": [],
   "source": [
    "#Bad example\n",
    "print(Hello Blue Jays)"
   ]
  },
  {
   "cell_type": "markdown",
   "metadata": {},
   "source": [
    "## Slicing the string - Python's index starts from  **<font color='Red'> 0</font>**\n",
    "#### That means \"H\" is 0, \"e\" is 1, and the space between Hello and Blue also count as one space\n",
    "#### When using the [a, b ] to slice stuff,  \"a\" means the starting items, and \"b\" means slicing before the \"b\" position  "
   ]
  },
  {
   "cell_type": "code",
   "execution_count": null,
   "metadata": {},
   "outputs": [],
   "source": [
    "message = \"Hello Blue Jays\"\n",
    "print(message[6:10])\n",
    "print(message[0:5])\n",
    "print(message[:5])\n",
    "print(message[:7])"
   ]
  },
  {
   "cell_type": "markdown",
   "metadata": {},
   "source": [
    "## Using the <font color='Red'> .replace(\"old_string\", \"new_string\") </font> to change the content"
   ]
  },
  {
   "cell_type": "code",
   "execution_count": null,
   "metadata": {},
   "outputs": [],
   "source": [
    "new_message = message.replace(\"Hello\", \"Evening\")\n",
    "print(new_message)"
   ]
  },
  {
   "cell_type": "markdown",
   "metadata": {},
   "source": [
    "## Using the <font color='Red'> \"{ }\".format( )(\"old_string\", \"new_string\") </font> system to substitute variables into strings"
   ]
  },
  {
   "cell_type": "code",
   "execution_count": null,
   "metadata": {},
   "outputs": [],
   "source": [
    "greeting  = \"Hello\"\n",
    "name = \"Blue Jays\"\n",
    "message = \"{0}, {1} Welcome back!\".format(greeting, name)\n",
    "print(message)"
   ]
  },
  {
   "cell_type": "code",
   "execution_count": null,
   "metadata": {},
   "outputs": [],
   "source": [
    "greeting  = \"Evening\"\n",
    "name = \"Blue Jays\"\n",
    "message = \"{0}, {1} Welcome back!\".format(greeting, name)\n",
    "print(message)"
   ]
  },
  {
   "cell_type": "code",
   "execution_count": null,
   "metadata": {},
   "outputs": [],
   "source": [
    "greeting  = \"Evening\"\n",
    "name = \"Blue Jays\"\n",
    "message = \"{1}, {0} Welcome back!\".format(greeting, name)\n",
    "print(message)"
   ]
  },
  {
   "cell_type": "markdown",
   "metadata": {},
   "source": [
    "# Tip 3: **Working with <font color='Red'> Simple Numbers </font>**"
   ]
  },
  {
   "cell_type": "code",
   "execution_count": null,
   "metadata": {},
   "outputs": [],
   "source": [
    "print(3.1+7.1)"
   ]
  },
  {
   "cell_type": "code",
   "execution_count": null,
   "metadata": {},
   "outputs": [],
   "source": [
    "print(3.1-7.1)"
   ]
  },
  {
   "cell_type": "code",
   "execution_count": null,
   "metadata": {},
   "outputs": [],
   "source": [
    "print(3.1*7.1)"
   ]
  },
  {
   "cell_type": "code",
   "execution_count": 1,
   "metadata": {},
   "outputs": [
    {
     "name": "stdout",
     "output_type": "stream",
     "text": [
      "0.4366197183098592\n"
     ]
    }
   ],
   "source": [
    "print(3.1/7.1)"
   ]
  },
  {
   "cell_type": "code",
   "execution_count": null,
   "metadata": {},
   "outputs": [],
   "source": [
    "print(3.1**2)"
   ]
  },
  {
   "cell_type": "code",
   "execution_count": null,
   "metadata": {},
   "outputs": [],
   "source": [
    "print(3.1**0.5)"
   ]
  },
  {
   "cell_type": "markdown",
   "metadata": {},
   "source": [
    "### Control the floating number with the <font color='Red'> \"{ : .2f}\".format( ) </font>"
   ]
  },
  {
   "cell_type": "code",
   "execution_count": null,
   "metadata": {},
   "outputs": [],
   "source": [
    "print(\"{:.2f}\".format(3.1/7.1))"
   ]
  },
  {
   "cell_type": "code",
   "execution_count": null,
   "metadata": {},
   "outputs": [],
   "source": [
    "print(\"{:.3f}\".format(3.1/7.1))"
   ]
  },
  {
   "cell_type": "markdown",
   "metadata": {},
   "source": [
    "# Tip 4: **Working with <font color='Red'> Lists and simple \"for\" loop</font>**"
   ]
  },
  {
   "cell_type": "code",
   "execution_count": null,
   "metadata": {},
   "outputs": [],
   "source": [
    "a = [\"Monday\", \"Tuesday\", \"Wednesday\"]\n",
    "b = [\"Thursday\", \"Friday\"]\n",
    "a+b"
   ]
  },
  {
   "cell_type": "markdown",
   "metadata": {},
   "source": [
    "### Use the .extend to merge two list into one list"
   ]
  },
  {
   "cell_type": "code",
   "execution_count": null,
   "metadata": {},
   "outputs": [],
   "source": [
    "a = [\"Monday\", \"Tuesday\", \"Wednesday\"]\n",
    "b = [\"Thursday\", \"Friday\"]\n",
    "\n",
    "a.extend(b)\n",
    "print(a)"
   ]
  },
  {
   "cell_type": "markdown",
   "metadata": {},
   "source": [
    "### Use the .append( ) to add one list into another list, same as a+b"
   ]
  },
  {
   "cell_type": "code",
   "execution_count": null,
   "metadata": {},
   "outputs": [],
   "source": [
    "a = [\"Monday\", \"Tuesday\", \"Wednesday\"]\n",
    "b = [\"Thursday\", \"Friday\"]\n",
    "\n",
    "a.append(b)\n",
    "print(a)"
   ]
  },
  {
   "cell_type": "code",
   "execution_count": null,
   "metadata": {},
   "outputs": [],
   "source": [
    "a = [\"Monday\", \"Tuesday\", \"Wednesday\"]\n",
    "a.remove(\"Tuesday\")\n",
    "a"
   ]
  },
  {
   "cell_type": "code",
   "execution_count": null,
   "metadata": {},
   "outputs": [],
   "source": [
    "days = [\"Monday\", \"Tuesday\", \"Wednesday\",\"Thursday\",\"Friday\",\"Saturday\", \"Sunday\"]\n",
    "print(days.index(\"Thursday\"))"
   ]
  },
  {
   "cell_type": "markdown",
   "metadata": {},
   "source": [
    "### A very simple **<font color='Red'>for loop</font>**"
   ]
  },
  {
   "cell_type": "code",
   "execution_count": null,
   "metadata": {},
   "outputs": [],
   "source": [
    "days = [\"Sunday\", \"Monday\", \"Tuesday\", \"Wednesday\",\"Thursday\",\"Friday\",\"Saturday\"]\n",
    "for day in days:\n",
    "    print(\"Todays is:\", day)"
   ]
  },
  {
   "cell_type": "markdown",
   "metadata": {},
   "source": [
    "### Use the  **<font color='Red'>len( )</font>** to get the length of the list"
   ]
  },
  {
   "cell_type": "code",
   "execution_count": null,
   "metadata": {},
   "outputs": [],
   "source": [
    "len(days)"
   ]
  },
  {
   "cell_type": "markdown",
   "metadata": {},
   "source": [
    "### Using  **<font color='Red'>range( )</font>** with for loop"
   ]
  },
  {
   "cell_type": "code",
   "execution_count": null,
   "metadata": {},
   "outputs": [],
   "source": [
    "for i in range(5):\n",
    "    print(i)"
   ]
  },
  {
   "cell_type": "markdown",
   "metadata": {},
   "source": [
    "### **<font color='Red'>Range of length</font>** - Gives you the item with the index"
   ]
  },
  {
   "cell_type": "code",
   "execution_count": null,
   "metadata": {},
   "outputs": [],
   "source": [
    "days = [\"Sunday\", \"Monday\", \"Tuesday\", \"Wednesday\",\"Thursday\",\"Friday\",\"Saturday\"]\n",
    "for i in range(len(days)):\n",
    "    print(\"{1} is the {0} day of the week!\".format(i+1, days[i]))"
   ]
  },
  {
   "cell_type": "markdown",
   "metadata": {},
   "source": [
    "### If you are experienced in Python, try <font color='Red'>enumerate</font> !!!"
   ]
  },
  {
   "cell_type": "markdown",
   "metadata": {},
   "source": [
    "### Optional: list comprehensions - A very useful method to generate a list"
   ]
  },
  {
   "cell_type": "code",
   "execution_count": null,
   "metadata": {},
   "outputs": [],
   "source": [
    "ls = []\n",
    "for i in range (10):\n",
    "    ls.append(i**2)\n",
    "print(ls)"
   ]
  },
  {
   "cell_type": "code",
   "execution_count": null,
   "metadata": {},
   "outputs": [],
   "source": [
    "[i**2 for i in range(10)]"
   ]
  },
  {
   "cell_type": "code",
   "execution_count": null,
   "metadata": {},
   "outputs": [],
   "source": [
    "ls = []\n",
    "for n in range(10):\n",
    "    if n%2 == 0:\n",
    "        ls.append(n)\n",
    "print(ls)"
   ]
  },
  {
   "cell_type": "code",
   "execution_count": null,
   "metadata": {},
   "outputs": [],
   "source": [
    "[n for n in range(10) if n%2 ==0]"
   ]
  },
  {
   "cell_type": "markdown",
   "metadata": {},
   "source": [
    "# Tip 5: **Working with <font color='Red'> If & Booleans </font>**"
   ]
  },
  {
   "cell_type": "code",
   "execution_count": null,
   "metadata": {},
   "outputs": [],
   "source": [
    "daily_cases = 250000 \n",
    "\n",
    "if daily_cases >= 300000:\n",
    "    print(\"Stay home and wear masks\")\n",
    "elif daily_cases >= 100000:\n",
    "    print(\"Wear masks and maintain social distance\")\n",
    "else: \n",
    "    print(\"Maybe the pandemic is under control\")"
   ]
  },
  {
   "cell_type": "code",
   "execution_count": null,
   "metadata": {},
   "outputs": [],
   "source": [
    "daily_cases = [250000, 300000, 100]\n",
    "for cases in daily_cases:\n",
    "    if cases >= 300000:\n",
    "        print(\"Stay home and wear masks\")\n",
    "    elif cases >= 100000:\n",
    "        print(\"Wear masks and maintain social distance\")\n",
    "    else: \n",
    "        print(\"Maybe the pandemic is under control\")"
   ]
  },
  {
   "cell_type": "markdown",
   "metadata": {},
   "source": [
    "# Tip 6: **Solving simultaneous equations with  <font color='Red'> Sympy </font>**"
   ]
  },
  {
   "cell_type": "markdown",
   "metadata": {},
   "source": [
    "For more details in the Sympy package, the referene links gives more information https://docs.sympy.org/latest/index.html"
   ]
  },
  {
   "cell_type": "markdown",
   "metadata": {},
   "source": [
    "For more details in installing pacakges, the reference links gives more information\n",
    "https://jakevdp.github.io/blog/2017/12/05/installing-python-packages-from-jupyter/"
   ]
  },
  {
   "cell_type": "markdown",
   "metadata": {},
   "source": [
    "## Install Sympy with Anaconda <font color='Red'> (Recommended) </font>"
   ]
  },
  {
   "cell_type": "code",
   "execution_count": null,
   "metadata": {},
   "outputs": [],
   "source": [
    "conda install sympy "
   ]
  },
  {
   "cell_type": "markdown",
   "metadata": {},
   "source": [
    "## Install Sympy with pip <font color='Red'> (Fast but not stable)</font>"
   ]
  },
  {
   "cell_type": "code",
   "execution_count": null,
   "metadata": {},
   "outputs": [],
   "source": [
    "import sympy\n",
    "import sys\n",
    "!{sys.executable} -m pip install sympy"
   ]
  },
  {
   "cell_type": "markdown",
   "metadata": {},
   "source": [
    "## First example: Solving three parameters with equations"
   ]
  },
  {
   "cell_type": "markdown",
   "metadata": {},
   "source": [
    "### $Eqn 1:  2𝑥^2 + 𝑦 + 𝑧 = 1$\n",
    "### $Eqn 2:  𝑥 + 2𝑦 + 𝑧 = 𝑐_{1}$\n",
    "### $Eqn 3:  −2𝑥 + 𝑦 = −𝑧$\n"
   ]
  },
  {
   "cell_type": "markdown",
   "metadata": {},
   "source": [
    "### More LaTeX examples!\n",
    "https://towardsdatascience.com/write-markdown-latex-in-the-jupyter-notebook-10985edb91fd"
   ]
  },
  {
   "cell_type": "code",
   "execution_count": null,
   "metadata": {},
   "outputs": [],
   "source": [
    "import sympy as sym\n",
    "x,y,z = sym.symbols('x,y,z')\n",
    "c1 = sym.Symbol('c1')\n",
    "eq1 = sym.Eq(2*x**2+y+z,1)\n",
    "eq2 = sym.Eq(x+2*y+z,c1)\n",
    "eq3 = sym.Eq(-2*x+y,-z)\n",
    "results = sym.solve([eq1,eq2,eq3],(x,y,z))\n",
    "\n",
    "results"
   ]
  },
  {
   "cell_type": "code",
   "execution_count": null,
   "metadata": {},
   "outputs": [],
   "source": [
    "import sympy as sym\n",
    "x,y,z = sym.symbols('x,y,z')\n",
    "c1 = sym.symbols('c1')    #You can also do this: x,y,z,c1 = sym.symbols('x,y,z,c1')\n",
    "eq1 = sym.Eq(2*x**2+y+z,1)\n",
    "eq2 = sym.Eq(x+2*y+z,c1)\n",
    "eq3 = sym.Eq(-2*x+y,-z)\n",
    "results = sym.solve([eq1,eq2,eq3],(x,y,z))\n",
    "\n",
    "for index, result in enumerate(results, 1):\n",
    "    print(\"The #{} solution is\".format(index))\n",
    "    print(\"x = \", result[0])\n",
    "    print(\"y = \", result[1])\n",
    "    print(\"z = \", result[2])\n",
    "    print()"
   ]
  },
  {
   "cell_type": "markdown",
   "metadata": {},
   "source": [
    "## Second example: Performing a <font color='Red'> material </font> balance on a single unit"
   ]
  },
  {
   "cell_type": "code",
   "execution_count": null,
   "metadata": {},
   "outputs": [],
   "source": [
    "from IPython.display import YouTubeVideo\n",
    "YouTubeVideo('DsZ4p_mHSPg', width=600, height=400, )"
   ]
  },
  {
   "cell_type": "markdown",
   "metadata": {},
   "source": [
    "### A simple mass balance question\n",
    "\n",
    "* Overall mass balance: $m1 + 5300  = m3 +1200 +m5$\n",
    "* B balance: $0.03 * m1 + x2 * 5300 = (0.3 - x4) * 1200 + 0.6  * m5$\n",
    "* C balance: $0.97 * m1 = x4(1200) + 0.4 * m5$\n",
    "* m3 is half the florate of $m1: m3 = 0.5 * m1$\n",
    "* 90% of C in m1 exits in m5: $0.9 * (0.97 * m1) = 0.4 * (m5)$\n"
   ]
  },
  {
   "cell_type": "code",
   "execution_count": 2,
   "metadata": {},
   "outputs": [
    {
     "data": {
      "text/plain": "{m1: 2436.84992570580,\n m3: 1218.42496285290,\n m5: 5318.42496285290,\n x2: 0.611617931537189,\n x4: 0.196978702327885}"
     },
     "execution_count": 2,
     "metadata": {},
     "output_type": "execute_result"
    }
   ],
   "source": [
    "import sympy as sym\n",
    "\n",
    "sym.var('m1, m3, m5, x2, x4')\n",
    "\n",
    "eq1 = sym.Eq(m1 + 5300, m3 + 1200 + m5)\n",
    "eq2 = sym.Eq(0.03*m1 + x2*5300, (0.3-x4)*1200 + 0.6*m5)\n",
    "eq3 = sym.Eq(0.97*m1, x4*1200 + 0.4*m5)\n",
    "eq4 = sym.Eq(m3, 0.5*m1)\n",
    "eq5 = sym.Eq(0.9*0.97*m1, 0.4*m5)\n",
    "\n",
    "results2 = sym.solve([eq1, eq2, eq3, eq4, eq5], (m1, m3, m5, x2, x4))\n",
    "results2"
   ]
  },
  {
   "cell_type": "code",
   "execution_count": 4,
   "outputs": [],
   "source": [
    "sym.var('m1,m2,x2')\n",
    "eq1=sym.Eq(m1+m2,100)\n",
    "eq2=sym.Eq(0.2*m1+x2*m2,0.12*100)\n",
    "eq3=sym.Eq(0.6*m1,0.12*100)\n",
    "results = sym.solve([eq1,eq2,eq3],(m1,m2,x2))"
   ],
   "metadata": {
    "collapsed": false,
    "pycharm": {
     "name": "#%%\n"
    }
   }
  },
  {
   "cell_type": "markdown",
   "metadata": {},
   "source": [
    "### Example for solving differential equation\n",
    "https://docs.sympy.org/latest/tutorial/solvers.html"
   ]
  }
 ],
 "metadata": {
  "kernelspec": {
   "display_name": "Python 3",
   "language": "python",
   "name": "python3"
  },
  "language_info": {
   "codemirror_mode": {
    "name": "ipython",
    "version": 3
   },
   "file_extension": ".py",
   "mimetype": "text/x-python",
   "name": "python",
   "nbconvert_exporter": "python",
   "pygments_lexer": "ipython3",
   "version": "3.7.4"
  }
 },
 "nbformat": 4,
 "nbformat_minor": 2
}